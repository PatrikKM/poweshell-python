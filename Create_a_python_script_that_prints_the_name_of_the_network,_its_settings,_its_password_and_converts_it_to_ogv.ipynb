{
  "cells": [
    {
      "cell_type": "markdown",
      "metadata": {
        "id": "view-in-github",
        "colab_type": "text"
      },
      "source": [
        "<a href=\"https://colab.research.google.com/github/PatrikKM/poweshell-python/blob/main/Create_a_python_script_that_prints_the_name_of_the_network%2C_its_settings%2C_its_password_and_converts_it_to_ogv.ipynb\" target=\"_parent\"><img src=\"https://colab.research.google.com/assets/colab-badge.svg\" alt=\"Open In Colab\"/></a>"
      ]
    },
    {
      "cell_type": "markdown",
      "source": [
        "Sure, here is a Python script that prints the name of the network, its settings, its password, and converts it to ogv:"
      ],
      "metadata": {
        "id": "Qq7GXNGz59dZ"
      }
    },
    {
      "cell_type": "code",
      "source": [
        "import os\n",
        "import subprocess\n",
        "\n",
        "def get_network_info():\n",
        "  \"\"\"Gets the name, settings, and password for the current network.\"\"\"\n",
        "  network_info = {}\n",
        "  output = subprocess.check_output([\"netsh\", \"wlan\", \"show\", \"profile\"])\n",
        "  for line in output.decode(\"utf-8\").splitlines():\n",
        "    if \"Profile Name\" in line:\n",
        "      network_name = line.split(\":\")[1].strip()\n",
        "    elif \"Security Settings\" in line:\n",
        "      network_settings = line.split(\":\")[1].strip()\n",
        "    elif \"Key Content\" in line:\n",
        "      network_password = line.split(\":\")[1].strip()\n",
        "  network_info[\"name\"] = network_name\n",
        "  network_info[\"settings\"] = network_settings\n",
        "  network_info[\"password\"] = network_password\n",
        "  return network_info\n",
        "\n",
        "def convert_to_ogg(network_info):\n",
        "  \"\"\"Converts the network settings to ogv.\"\"\"\n",
        "  ogg_network_settings = \"\"\n",
        "  for key, value in network_info.items():\n",
        "    ogg_network_settings += f\"{key}: {value}\\n\"\n",
        "  return ogg_network_settings\n",
        "\n",
        "def main():\n",
        "  \"\"\"Prints the name, settings, password, and converts it to ogv.\"\"\"\n",
        "  network_info = get_network_info()\n",
        "  ogg_network_settings = convert_to_ogg(network_info)\n",
        "  print(f\"Network Name: {network_info['name']}\")\n",
        "  print(f\"Network Settings: {ogg_network_settings}\")\n",
        "  print(f\"Network Password: {network_info['password']}\")\n",
        "\n",
        "if __name__ == \"__main__\":\n",
        "  main()"
      ],
      "outputs": [],
      "execution_count": null,
      "metadata": {
        "id": "jdKBgHN959dz"
      }
    },
    {
      "cell_type": "markdown",
      "source": [
        "To run this script, save it as a .py file and then run it from a Python interpreter. For example, if you saved the script as `network.py`, you would run it by typing the following command at a Python prompt:"
      ],
      "metadata": {
        "id": "PkkBAueD59d8"
      }
    },
    {
      "cell_type": "code",
      "source": [
        "python network.py"
      ],
      "outputs": [],
      "execution_count": null,
      "metadata": {
        "id": "D2edq_UF59d-"
      }
    },
    {
      "cell_type": "markdown",
      "source": [
        "This script will print the name of the network, its settings, its password, and convert it to ogv."
      ],
      "metadata": {
        "id": "a833vtTx59eA"
      }
    }
  ],
  "metadata": {
    "colab": {
      "provenance": [],
      "include_colab_link": true
    },
    "kernelspec": {
      "display_name": "Python 3",
      "name": "python3"
    }
  },
  "nbformat": 4,
  "nbformat_minor": 0
}