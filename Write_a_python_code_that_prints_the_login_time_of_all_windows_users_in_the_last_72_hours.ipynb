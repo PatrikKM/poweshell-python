{
  "cells": [
    {
      "cell_type": "markdown",
      "metadata": {
        "id": "view-in-github",
        "colab_type": "text"
      },
      "source": [
        "<a href=\"https://colab.research.google.com/github/PatrikKM/poweshell-python/blob/main/Write_a_python_code_that_prints_the_login_time_of_all_windows_users_in_the_last_72_hours.ipynb\" target=\"_parent\"><img src=\"https://colab.research.google.com/assets/colab-badge.svg\" alt=\"Open In Colab\"/></a>"
      ]
    },
    {
      "cell_type": "markdown",
      "source": [
        "Sure, here is the Python code that prints the login time of all Windows users in the last 72 hours:"
      ],
      "metadata": {
        "id": "C98KgMFA7gY2"
      }
    },
    {
      "cell_type": "code",
      "source": [],
      "metadata": {
        "id": "I8Oo31gn7xxy"
      },
      "execution_count": null,
      "outputs": []
    },
    {
      "cell_type": "code",
      "source": [
        "import psutil\n",
        "import datetime\n",
        "\n",
        "def get_login_time(username):\n",
        "    last_login = psutil.users()[username][\"last_login\"]\n",
        "    return datetime.datetime.fromtimestamp(last_login).strftime(\"%H:%M:%S\")\n",
        "\n",
        "def main():\n",
        "    now = datetime.datetime.now()\n",
        "    seventy_two_hours_ago = now - datetime.timedelta(hours=72)\n",
        "\n",
        "    for username in psutil.users():\n",
        "        if psutil.users()[username][\"last_login\"] >= seventy_two_hours_ago:\n",
        "            print(f\"{username}: {get_login_time(username)}\")\n",
        "\n",
        "if __name__ == \"__main__\":\n",
        "    main()"
      ],
      "outputs": [],
      "execution_count": null,
      "metadata": {
        "id": "_dBy2P0E7gZI"
      }
    },
    {
      "cell_type": "markdown",
      "source": [
        "This code first imports the `psutil` and `datetime` modules. The `psutil` module provides information about the system's processes, including the user login time. The `datetime` module provides functions for working with dates and times.\n",
        "\n",
        "The `get_login_time()` function takes a username as input and returns the user's login time as a string in the format `HH:MM:SS`. The function first gets the user's last login time from the `psutil` module. It then converts the time stamp to a `datetime` object and formats it as a string.\n",
        "\n",
        "The `main()` function gets the current time and then calculates the time 72 hours ago. It then loops through all of the users on the system and prints the login time for any users who logged in within the last 72 hours.\n",
        "\n",
        "To run this code, you can save it as a `.py` file and then run it from the command line. For example, if you save the code as `login_time.py`, you can run it by typing the following command into the command line:\n",
        "\n",
        "```\n",
        "python login_time.py\n",
        "```\n",
        "\n",
        "This will print the login time for all Windows users who logged in within the last 72 hours."
      ],
      "metadata": {
        "id": "3BrpKS477gZP"
      }
    }
  ],
  "metadata": {
    "colab": {
      "provenance": [],
      "toc_visible": true,
      "include_colab_link": true
    },
    "kernelspec": {
      "display_name": "Python 3",
      "name": "python3"
    }
  },
  "nbformat": 4,
  "nbformat_minor": 0
}